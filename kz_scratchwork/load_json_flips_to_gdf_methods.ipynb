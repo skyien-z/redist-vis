{
 "cells": [
  {
   "cell_type": "code",
   "execution_count": 1,
   "metadata": {},
   "outputs": [],
   "source": [
    "import json\n",
    "import csv\n",
    "import geopandas\n",
    "import matplotlib.pyplot as plt\n",
    "import numpy as np\n",
    "import pandas as pd\n",
    "import keplergl"
   ]
  },
  {
   "cell_type": "code",
   "execution_count": 2,
   "metadata": {},
   "outputs": [],
   "source": [
    "def read_partition(partition_fname):\n",
    "    \"\"\"\n",
    "    Reads a partition (district map) from a csv file with \n",
    "    columns 'GEOID' (unique identifiers for the census tracts) and 'district'. \n",
    "    \n",
    "    Returns a pandas DataFrame object representing the map, where\n",
    "    'GEOID' is the key.\n",
    "    \"\"\"\n",
    "    with open(partition_fname, 'r') as map_file:\n",
    "        map_reader = csv.reader(map_file)\n",
    "        map_raw = list(map_reader)\n",
    "\n",
    "    map_headers = map_raw.pop(0)\n",
    "    map_df = pd.DataFrame(map_raw, columns=map_headers).astype({'district': int})\n",
    "    return map_df.set_index('GEOID')"
   ]
  },
  {
   "cell_type": "code",
   "execution_count": 3,
   "metadata": {},
   "outputs": [],
   "source": [
    "def create_and_get_gdf(tracts_fname, partition_fname):\n",
    "    \"\"\"\n",
    "    Loads a sample Wisconsin district map. \n",
    "\n",
    "    Parameters:\n",
    "        tracts_fname: the name of the Wisconsin census tracts file (zipped shapefile)\n",
    "        partition_fname: the name of the initial partition file (.csv)\n",
    "\n",
    "    Returns:\n",
    "        the given Wisconsin district map as a GeoPandas DataFrame object\n",
    "    \"\"\"\n",
    "    # Step 1. Build a GeoDataFrame (a geographic version of a pandas DataFrame)\n",
    "    # from the tracts zip file (adding 'zip://' prefix if missing). \n",
    "    tracts_fname = tracts_fname if 'zip://' in tracts_fname else 'zip://' + tracts_fname\n",
    "    gdf = geopandas.read_file(tracts_fname)\n",
    "    gdf.set_index('GEOID', inplace=True)\n",
    "\n",
    "    # Step 2. Load the initial partition and join it to the GeoDataFrame. \n",
    "    map_df = read_partition(partition_fname)\n",
    "    map_gdf = gdf.join(map_df)\n",
    "\n",
    "    map_gdf['district'].fillna(value=-1, inplace=True) # Slight cleanup\n",
    "    \n",
    "    return map_gdf"
   ]
  },
  {
   "cell_type": "code",
   "execution_count": 4,
   "metadata": {},
   "outputs": [],
   "source": [
    "def read_json(json_fname):\n",
    "    # read and load in json data into python dictionary\n",
    "    with open(json_fname, 'r') as json_data:\n",
    "        all_json_data=json_data.read()\n",
    "        \n",
    "    all_json_dict = json.loads(all_json_data)\n",
    "    \n",
    "    return all_json_dict"
   ]
  },
  {
   "cell_type": "code",
   "execution_count": 5,
   "metadata": {},
   "outputs": [],
   "source": [
    "def get_list_of_flip_dict(json_fname):\n",
    "    \n",
    "    \"\"\"\n",
    "    Gets a list of python dictionaries each containing the information for one flip.\n",
    "    \n",
    "    Parameters: json_fname: the name of json file containing flip information\n",
    "\n",
    "    Returns: list of of python dictionaries each containing the information for one flip\n",
    "    \"\"\"\n",
    "    all_json_dict = read_json(json_fname)    \n",
    "    \n",
    "    # gets list of all single flip dictionaries stored in json\n",
    "    flip_json_list_of_dict = all_json_dict['flips']\n",
    "    \n",
    "    return flip_json_list_of_dict"
   ]
  },
  {
   "cell_type": "code",
   "execution_count": 6,
   "metadata": {},
   "outputs": [],
   "source": [
    "def get_initial_map_data(json_fname):\n",
    "    \n",
    "    \"\"\"\n",
    "    Gets a python dictionary containing district numbers as keys mapped to GEOIDs in a list.\n",
    "    \n",
    "    Parameters: json_fname: the name of json file containing map data information\n",
    "\n",
    "    Returns: python dictionary containing district numbers as keys mapped to GEOIDs in a list\n",
    "    \"\"\"\n",
    "    \n",
    "    all_json_dict = read_json(json_fname)    \n",
    "    \n",
    "    # get list of single flip dictionaries stored in json\n",
    "    map_data_dict = all_json_dict['initial_map']\n",
    "    \n",
    "    return map_data_dict"
   ]
  },
  {
   "cell_type": "code",
   "execution_count": 7,
   "metadata": {},
   "outputs": [],
   "source": [
    "def add_initial_map_column_to_gdf(map_data_dict, map_as_gdf):      \n",
    "    \"\"\"\n",
    "    Adds a column of district data read in from the initial map key to GeoPandas DataFrame object map passed in\n",
    "    \n",
    "    Parameters: \n",
    "            map_data_dict: a list that contains a dictionary of initial map data with district numbers as keys and \n",
    "            GEOIDs as values\n",
    "            map_as_gdf: GeoPandas DataFrame object that encodes data for a map\n",
    "    \n",
    "    Returns: original GeoPandas DataFrame with the new initial map data added\n",
    "    \"\"\"\n",
    "        \n",
    "    column_name = 'district_plan_0'\n",
    "    list_of_districts = list(map_data_dict.keys()) # gets list of districts from dictionary district and GEOID data\n",
    "    # creates a list of empty strings the length of the number of rows in map_as_gdf\n",
    "    empty_list_for_column = [-1] * len(map_as_gdf.index)\n",
    "    map_as_gdf.insert(len(map_as_gdf.columns), column_name, empty_list_for_column)\n",
    "    \n",
    "    # sets district to geoid in new column space based on json data\n",
    "    for district_number in list_of_districts:\n",
    "        list_of_geoids = map_data_dict[district_number] # gets list of GEOIDs in a given district\n",
    "        \n",
    "        for geoid in list_of_geoids:\n",
    "            map_as_gdf.loc[geoid, column_name] = float(district_number)\n",
    "            \n",
    "    return map_as_gdf"
   ]
  },
  {
   "cell_type": "code",
   "execution_count": 8,
   "metadata": {},
   "outputs": [],
   "source": [
    "def implement_flip_into_gdf(one_flip_dictionary, map_as_gdf, previous_column_name, column_name):\n",
    "    \n",
    "    \"\"\"\n",
    "    Duplicates initial district column in a GeoPandas Dataframe object map and alters it to reflect \n",
    "    information in a flip dictionary\n",
    "    \n",
    "    Parameters: \n",
    "            list_of_one_flip_dict: list that contains one dictionary describing one flip\n",
    "            map_as_gdf: GeoPandas DataFrame object that encodes data for a map\n",
    "            previous_column_name: name of column to be duplicated\n",
    "            column_name: name of column where flip information will be incorporated\n",
    "    \n",
    "    Returns: new GeoPandas DataFrame with the flip information implemented into data\n",
    "    \"\"\"\n",
    "    # duplicates initial district column and names it whatever column_name stores\n",
    "    map_as_gdf[column_name] = map_as_gdf[previous_column_name]    \n",
    "    \n",
    "    list_of_single_geoid = list(one_flip_dictionary.keys())\n",
    "    geoid_key = list_of_single_geoid[0] # gets value of GEOID in the flip dictionary\n",
    "    new_district_value = one_flip_dictionary[geoid_key] # gets value of new district as float from flip dictionary\n",
    "    \n",
    "    map_as_gdf.loc[geoid_key, column_name] = float(new_district_value)\n",
    "    \n",
    "    return map_as_gdf"
   ]
  },
  {
   "cell_type": "code",
   "execution_count": null,
   "metadata": {},
   "outputs": [],
   "source": []
  }
 ],
 "metadata": {
  "kernelspec": {
   "display_name": "Python 3",
   "language": "python",
   "name": "python3"
  },
  "language_info": {
   "codemirror_mode": {
    "name": "ipython",
    "version": 3
   },
   "file_extension": ".py",
   "mimetype": "text/x-python",
   "name": "python",
   "nbconvert_exporter": "python",
   "pygments_lexer": "ipython3",
   "version": "3.8.5"
  }
 },
 "nbformat": 4,
 "nbformat_minor": 4
}
