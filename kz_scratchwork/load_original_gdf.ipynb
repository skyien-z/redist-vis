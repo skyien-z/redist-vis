{
 "cells": [
  {
   "cell_type": "code",
   "execution_count": 1,
   "metadata": {},
   "outputs": [
    {
     "name": "stdout",
     "output_type": "stream",
     "text": [
      "importing Jupyter notebook from load_json_flips_to_gdf_methods.ipynb\n"
     ]
    }
   ],
   "source": [
    "import keplergl\n",
    "import import_ipynb\n",
    "\n",
    "from load_json_flips_to_gdf_methods import create_and_get_gdf\n",
    "from load_json_flips_to_gdf_methods import get_initial_map_data\n",
    "from load_json_flips_to_gdf_methods import add_initial_map_column_to_gdf\n",
    "from load_json_flips_to_gdf_methods import get_list_of_flip_dict\n",
    "from load_json_flips_to_gdf_methods import implement_flip_into_gdf"
   ]
  },
  {
   "cell_type": "code",
   "execution_count": 2,
   "metadata": {},
   "outputs": [],
   "source": [
    "if __name__ == '__main__':\n",
    "    tracts_fname = 'data/tl_2013_55_tract.zip'\n",
    "    partition_fname = 'data/wi_gerrymander_dem.csv'\n",
    "    json_fname = 'data/wi_path_1flips.json'\n",
    "    district_counter = 1\n",
    "\n",
    "    map_as_gdf = create_and_get_gdf(tracts_fname, partition_fname)\n",
    "    map_data_dict = get_initial_map_data(json_fname)\n",
    "    map_as_gdf = add_initial_map_column_to_gdf(map_data_dict, map_as_gdf)\n",
    "    \n",
    "    flip_json_list_of_dict = get_list_of_flip_dict(json_fname)\n",
    "    for one_flip_dict in flip_json_list_of_dict:\n",
    "        previous_column_name = 'district_plan_' + str(district_counter - 1)\n",
    "        column_name = 'district_plan_' + str(district_counter)\n",
    "        map_as_gdf = implement_flip_into_gdf(one_flip_dict, map_as_gdf, previous_column_name, column_name)\n",
    "        district_counter = district_counter + 1"
   ]
  },
  {
   "cell_type": "code",
   "execution_count": 3,
   "metadata": {},
   "outputs": [],
   "source": [
    "map_as_gdf.to_file(\"wisconsin_map_1.geojson\", driver='GeoJSON')"
   ]
  },
  {
   "cell_type": "code",
   "execution_count": null,
   "metadata": {},
   "outputs": [],
   "source": []
  }
 ],
 "metadata": {
  "kernelspec": {
   "display_name": "Python 3",
   "language": "python",
   "name": "python3"
  },
  "language_info": {
   "codemirror_mode": {
    "name": "ipython",
    "version": 3
   },
   "file_extension": ".py",
   "mimetype": "text/x-python",
   "name": "python",
   "nbconvert_exporter": "python",
   "pygments_lexer": "ipython3",
   "version": "3.8.5"
  }
 },
 "nbformat": 4,
 "nbformat_minor": 4
}
